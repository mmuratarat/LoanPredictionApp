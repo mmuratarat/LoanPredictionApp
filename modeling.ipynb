{
 "cells": [
  {
   "cell_type": "markdown",
   "id": "94580f9b-347c-4aab-bdfc-240d105350ce",
   "metadata": {},
   "source": [
    "İlk olarak, model oluştururken kullanılacak tüm kütüphaneleri tek bir Jupyter not defteri hücresinde içe aktaralım:"
   ]
  },
  {
   "cell_type": "code",
   "execution_count": 1,
   "id": "45a6efd2-de31-4e4a-aafe-c99fa29dd3db",
   "metadata": {},
   "outputs": [],
   "source": [
    "import pandas as pd\n",
    "import numpy as np\n",
    "import pickle \n",
    "\n",
    "from sklearn.model_selection import train_test_split, GridSearchCV\n",
    "from sklearn.pipeline import Pipeline\n",
    "from sklearn.impute import SimpleImputer\n",
    "from sklearn.preprocessing import MinMaxScaler, OneHotEncoder\n",
    "from sklearn.compose import ColumnTransformer\n",
    "from sklearn.ensemble import RandomForestClassifier\n",
    "from sklearn.metrics import  accuracy_score, precision_score, recall_score, f1_score, roc_auc_score"
   ]
  },
  {
   "cell_type": "code",
   "execution_count": 2,
   "id": "88e96a34-c7df-4c65-8d70-4754ab125981",
   "metadata": {},
   "outputs": [
    {
     "data": {
      "text/html": [
       "<div>\n",
       "<style scoped>\n",
       "    .dataframe tbody tr th:only-of-type {\n",
       "        vertical-align: middle;\n",
       "    }\n",
       "\n",
       "    .dataframe tbody tr th {\n",
       "        vertical-align: top;\n",
       "    }\n",
       "\n",
       "    .dataframe thead th {\n",
       "        text-align: right;\n",
       "    }\n",
       "</style>\n",
       "<table border=\"1\" class=\"dataframe\">\n",
       "  <thead>\n",
       "    <tr style=\"text-align: right;\">\n",
       "      <th></th>\n",
       "      <th>Loan_ID</th>\n",
       "      <th>Gender</th>\n",
       "      <th>Married</th>\n",
       "      <th>Dependents</th>\n",
       "      <th>Education</th>\n",
       "      <th>Self_Employed</th>\n",
       "      <th>ApplicantIncome</th>\n",
       "      <th>CoapplicantIncome</th>\n",
       "      <th>LoanAmount</th>\n",
       "      <th>Loan_Amount_Term</th>\n",
       "      <th>Credit_History</th>\n",
       "      <th>Property_Area</th>\n",
       "      <th>Loan_Status</th>\n",
       "    </tr>\n",
       "  </thead>\n",
       "  <tbody>\n",
       "    <tr>\n",
       "      <th>0</th>\n",
       "      <td>LP001002</td>\n",
       "      <td>Male</td>\n",
       "      <td>No</td>\n",
       "      <td>0</td>\n",
       "      <td>Graduate</td>\n",
       "      <td>No</td>\n",
       "      <td>5849</td>\n",
       "      <td>0.0</td>\n",
       "      <td>NaN</td>\n",
       "      <td>360.0</td>\n",
       "      <td>1.0</td>\n",
       "      <td>Urban</td>\n",
       "      <td>Y</td>\n",
       "    </tr>\n",
       "    <tr>\n",
       "      <th>1</th>\n",
       "      <td>LP001003</td>\n",
       "      <td>Male</td>\n",
       "      <td>Yes</td>\n",
       "      <td>1</td>\n",
       "      <td>Graduate</td>\n",
       "      <td>No</td>\n",
       "      <td>4583</td>\n",
       "      <td>1508.0</td>\n",
       "      <td>128.0</td>\n",
       "      <td>360.0</td>\n",
       "      <td>1.0</td>\n",
       "      <td>Rural</td>\n",
       "      <td>N</td>\n",
       "    </tr>\n",
       "    <tr>\n",
       "      <th>2</th>\n",
       "      <td>LP001005</td>\n",
       "      <td>Male</td>\n",
       "      <td>Yes</td>\n",
       "      <td>0</td>\n",
       "      <td>Graduate</td>\n",
       "      <td>Yes</td>\n",
       "      <td>3000</td>\n",
       "      <td>0.0</td>\n",
       "      <td>66.0</td>\n",
       "      <td>360.0</td>\n",
       "      <td>1.0</td>\n",
       "      <td>Urban</td>\n",
       "      <td>Y</td>\n",
       "    </tr>\n",
       "    <tr>\n",
       "      <th>3</th>\n",
       "      <td>LP001006</td>\n",
       "      <td>Male</td>\n",
       "      <td>Yes</td>\n",
       "      <td>0</td>\n",
       "      <td>Not Graduate</td>\n",
       "      <td>No</td>\n",
       "      <td>2583</td>\n",
       "      <td>2358.0</td>\n",
       "      <td>120.0</td>\n",
       "      <td>360.0</td>\n",
       "      <td>1.0</td>\n",
       "      <td>Urban</td>\n",
       "      <td>Y</td>\n",
       "    </tr>\n",
       "    <tr>\n",
       "      <th>4</th>\n",
       "      <td>LP001008</td>\n",
       "      <td>Male</td>\n",
       "      <td>No</td>\n",
       "      <td>0</td>\n",
       "      <td>Graduate</td>\n",
       "      <td>No</td>\n",
       "      <td>6000</td>\n",
       "      <td>0.0</td>\n",
       "      <td>141.0</td>\n",
       "      <td>360.0</td>\n",
       "      <td>1.0</td>\n",
       "      <td>Urban</td>\n",
       "      <td>Y</td>\n",
       "    </tr>\n",
       "  </tbody>\n",
       "</table>\n",
       "</div>"
      ],
      "text/plain": [
       "    Loan_ID Gender Married Dependents     Education Self_Employed  \\\n",
       "0  LP001002   Male      No          0      Graduate            No   \n",
       "1  LP001003   Male     Yes          1      Graduate            No   \n",
       "2  LP001005   Male     Yes          0      Graduate           Yes   \n",
       "3  LP001006   Male     Yes          0  Not Graduate            No   \n",
       "4  LP001008   Male      No          0      Graduate            No   \n",
       "\n",
       "   ApplicantIncome  CoapplicantIncome  LoanAmount  Loan_Amount_Term  \\\n",
       "0             5849                0.0         NaN             360.0   \n",
       "1             4583             1508.0       128.0             360.0   \n",
       "2             3000                0.0        66.0             360.0   \n",
       "3             2583             2358.0       120.0             360.0   \n",
       "4             6000                0.0       141.0             360.0   \n",
       "\n",
       "   Credit_History Property_Area Loan_Status  \n",
       "0             1.0         Urban           Y  \n",
       "1             1.0         Rural           N  \n",
       "2             1.0         Urban           Y  \n",
       "3             1.0         Urban           Y  \n",
       "4             1.0         Urban           Y  "
      ]
     },
     "execution_count": 2,
     "metadata": {},
     "output_type": "execute_result"
    }
   ],
   "source": [
    "# Tam Veri Kümesi (Full Dataset)\n",
    "full_set = pd.read_csv('./data/full_dataset.csv')\n",
    "full_set.head(5)"
   ]
  },
  {
   "cell_type": "code",
   "execution_count": 3,
   "id": "c2518566-b08a-413f-8b5e-e79b1b098ab5",
   "metadata": {},
   "outputs": [
    {
     "data": {
      "text/plain": [
       "Index(['Loan_ID', 'Gender', 'Married', 'Dependents', 'Education',\n",
       "       'Self_Employed', 'ApplicantIncome', 'CoapplicantIncome', 'LoanAmount',\n",
       "       'Loan_Amount_Term', 'Credit_History', 'Property_Area', 'Loan_Status'],\n",
       "      dtype='object')"
      ]
     },
     "execution_count": 3,
     "metadata": {},
     "output_type": "execute_result"
    }
   ],
   "source": [
    "full_set.columns"
   ]
  },
  {
   "cell_type": "markdown",
   "id": "08a7ed9d-4582-4cd4-a68a-f2cdffca6b4e",
   "metadata": {},
   "source": [
    "Veri kümesindeki değişkenlerin veri tiplerine (data types) bakalım:"
   ]
  },
  {
   "cell_type": "code",
   "execution_count": 4,
   "id": "8453a708-045b-417e-acb7-12849549f94d",
   "metadata": {},
   "outputs": [
    {
     "data": {
      "text/plain": [
       "Loan_ID               object\n",
       "Gender                object\n",
       "Married               object\n",
       "Dependents            object\n",
       "Education             object\n",
       "Self_Employed         object\n",
       "ApplicantIncome        int64\n",
       "CoapplicantIncome    float64\n",
       "LoanAmount           float64\n",
       "Loan_Amount_Term     float64\n",
       "Credit_History       float64\n",
       "Property_Area         object\n",
       "Loan_Status           object\n",
       "dtype: object"
      ]
     },
     "execution_count": 4,
     "metadata": {},
     "output_type": "execute_result"
    }
   ],
   "source": [
    "full_set.dtypes\n",
    "\n",
    "# Gender                object\n",
    "# Married               object\n",
    "# Dependents            object\n",
    "# Education             object\n",
    "# Self_Employed         object\n",
    "# ApplicantIncome        int64\n",
    "# CoapplicantIncome    float64\n",
    "# LoanAmount           float64\n",
    "# Loan_Amount_Term     float64\n",
    "# Credit_History       float64\n",
    "# Property_Area         object\n",
    "# Loan_Status           object\n",
    "# dtype: object"
   ]
  },
  {
   "cell_type": "markdown",
   "id": "240166f9-80f8-45b3-a696-62c6f3c871b1",
   "metadata": {},
   "source": [
    "Veri kümesi hem nicel (nümerik, sayısal) hem de kategorik (nitel) değişkenlerden oluşmaktadır.\n",
    "\n",
    "Tam veri kümesinin (`full_dataset.csv`) şekline bakalım:"
   ]
  },
  {
   "cell_type": "code",
   "execution_count": 5,
   "id": "9b5b5839-3817-4244-bafe-895a732b6351",
   "metadata": {},
   "outputs": [
    {
     "name": "stdout",
     "output_type": "stream",
     "text": [
      "(614, 13)\n"
     ]
    }
   ],
   "source": [
    "print(full_set.shape)\n",
    "# (614, 13)"
   ]
  },
  {
   "cell_type": "markdown",
   "id": "b20e032d-8f4a-431e-8957-c06be708688c",
   "metadata": {},
   "source": [
    "Etiketli (labelled) veri kümesinde 614 gözlem (observation) ve 13 sütun vardır. Burada `Loan_ID` sütunu modelimiz için herhangi bir bilgi taşımamaktadır, bu  nedenle, bu sütunu elimine edebiliriz. `Loan_Status` değişkeni bağımlı değişkendir. Bu bir tarihi veridir (historical data). Geçmişte, müşterilerin kredi başvurusunun onaylanıp onaylanmadığı bilgisini taşımaktadır. Müşterilerin (yani gözlemlerin) bilgisi ise `Gender`, `Married`, `Dependents`, `Education`, `Self_Emplyed`, `ApplicantIncome`, `CoapplicantIncome`, `LoanAmount`, `Loan_Amount_Term`, `Credit_History` ve `Property_Area` değişkenleri ile verilmektedir.\n",
    "\n",
    "İlk olarak bu tam veri kümesinden, analizimizde kullanmayacağımız, `Loan_ID` sütununu düşürelim:  "
   ]
  },
  {
   "cell_type": "code",
   "execution_count": 6,
   "id": "8eb65e69-3404-483f-98c3-fe42d7e66a3f",
   "metadata": {},
   "outputs": [
    {
     "data": {
      "text/html": [
       "<div>\n",
       "<style scoped>\n",
       "    .dataframe tbody tr th:only-of-type {\n",
       "        vertical-align: middle;\n",
       "    }\n",
       "\n",
       "    .dataframe tbody tr th {\n",
       "        vertical-align: top;\n",
       "    }\n",
       "\n",
       "    .dataframe thead th {\n",
       "        text-align: right;\n",
       "    }\n",
       "</style>\n",
       "<table border=\"1\" class=\"dataframe\">\n",
       "  <thead>\n",
       "    <tr style=\"text-align: right;\">\n",
       "      <th></th>\n",
       "      <th>Gender</th>\n",
       "      <th>Married</th>\n",
       "      <th>Dependents</th>\n",
       "      <th>Education</th>\n",
       "      <th>Self_Employed</th>\n",
       "      <th>ApplicantIncome</th>\n",
       "      <th>CoapplicantIncome</th>\n",
       "      <th>LoanAmount</th>\n",
       "      <th>Loan_Amount_Term</th>\n",
       "      <th>Credit_History</th>\n",
       "      <th>Property_Area</th>\n",
       "      <th>Loan_Status</th>\n",
       "    </tr>\n",
       "  </thead>\n",
       "  <tbody>\n",
       "    <tr>\n",
       "      <th>0</th>\n",
       "      <td>Male</td>\n",
       "      <td>No</td>\n",
       "      <td>0</td>\n",
       "      <td>Graduate</td>\n",
       "      <td>No</td>\n",
       "      <td>5849</td>\n",
       "      <td>0.0</td>\n",
       "      <td>NaN</td>\n",
       "      <td>360.0</td>\n",
       "      <td>1.0</td>\n",
       "      <td>Urban</td>\n",
       "      <td>Y</td>\n",
       "    </tr>\n",
       "    <tr>\n",
       "      <th>1</th>\n",
       "      <td>Male</td>\n",
       "      <td>Yes</td>\n",
       "      <td>1</td>\n",
       "      <td>Graduate</td>\n",
       "      <td>No</td>\n",
       "      <td>4583</td>\n",
       "      <td>1508.0</td>\n",
       "      <td>128.0</td>\n",
       "      <td>360.0</td>\n",
       "      <td>1.0</td>\n",
       "      <td>Rural</td>\n",
       "      <td>N</td>\n",
       "    </tr>\n",
       "    <tr>\n",
       "      <th>2</th>\n",
       "      <td>Male</td>\n",
       "      <td>Yes</td>\n",
       "      <td>0</td>\n",
       "      <td>Graduate</td>\n",
       "      <td>Yes</td>\n",
       "      <td>3000</td>\n",
       "      <td>0.0</td>\n",
       "      <td>66.0</td>\n",
       "      <td>360.0</td>\n",
       "      <td>1.0</td>\n",
       "      <td>Urban</td>\n",
       "      <td>Y</td>\n",
       "    </tr>\n",
       "    <tr>\n",
       "      <th>3</th>\n",
       "      <td>Male</td>\n",
       "      <td>Yes</td>\n",
       "      <td>0</td>\n",
       "      <td>Not Graduate</td>\n",
       "      <td>No</td>\n",
       "      <td>2583</td>\n",
       "      <td>2358.0</td>\n",
       "      <td>120.0</td>\n",
       "      <td>360.0</td>\n",
       "      <td>1.0</td>\n",
       "      <td>Urban</td>\n",
       "      <td>Y</td>\n",
       "    </tr>\n",
       "    <tr>\n",
       "      <th>4</th>\n",
       "      <td>Male</td>\n",
       "      <td>No</td>\n",
       "      <td>0</td>\n",
       "      <td>Graduate</td>\n",
       "      <td>No</td>\n",
       "      <td>6000</td>\n",
       "      <td>0.0</td>\n",
       "      <td>141.0</td>\n",
       "      <td>360.0</td>\n",
       "      <td>1.0</td>\n",
       "      <td>Urban</td>\n",
       "      <td>Y</td>\n",
       "    </tr>\n",
       "  </tbody>\n",
       "</table>\n",
       "</div>"
      ],
      "text/plain": [
       "  Gender Married Dependents     Education Self_Employed  ApplicantIncome  \\\n",
       "0   Male      No          0      Graduate            No             5849   \n",
       "1   Male     Yes          1      Graduate            No             4583   \n",
       "2   Male     Yes          0      Graduate           Yes             3000   \n",
       "3   Male     Yes          0  Not Graduate            No             2583   \n",
       "4   Male      No          0      Graduate            No             6000   \n",
       "\n",
       "   CoapplicantIncome  LoanAmount  Loan_Amount_Term  Credit_History  \\\n",
       "0                0.0         NaN             360.0             1.0   \n",
       "1             1508.0       128.0             360.0             1.0   \n",
       "2                0.0        66.0             360.0             1.0   \n",
       "3             2358.0       120.0             360.0             1.0   \n",
       "4                0.0       141.0             360.0             1.0   \n",
       "\n",
       "  Property_Area Loan_Status  \n",
       "0         Urban           Y  \n",
       "1         Rural           N  \n",
       "2         Urban           Y  \n",
       "3         Urban           Y  \n",
       "4         Urban           Y  "
      ]
     },
     "execution_count": 6,
     "metadata": {},
     "output_type": "execute_result"
    }
   ],
   "source": [
    "full_set.drop(['Loan_ID'], axis=1, inplace=True)\n",
    "full_set.head()"
   ]
  },
  {
   "cell_type": "markdown",
   "id": "e43dc325-c2e2-41cf-9f5b-9dfec0d3a2de",
   "metadata": {},
   "source": [
    "Bağımlı değişken (dependent variable) olan `Loan_Status` değişkeni Y (Yes) ve N (No) olmak üzere iki kategoriden oluşmaktadır. Bu değişkeni nümerikleştirelim. `Y` kategorisi için `1.0`; `N` kategorisi için `0.0` eşleşmesi gerçekleştirelim:"
   ]
  },
  {
   "cell_type": "code",
   "execution_count": 7,
   "id": "ecd3b196-d14c-45bb-a5b0-6faa592b3e45",
   "metadata": {},
   "outputs": [
    {
     "data": {
      "text/html": [
       "<div>\n",
       "<style scoped>\n",
       "    .dataframe tbody tr th:only-of-type {\n",
       "        vertical-align: middle;\n",
       "    }\n",
       "\n",
       "    .dataframe tbody tr th {\n",
       "        vertical-align: top;\n",
       "    }\n",
       "\n",
       "    .dataframe thead th {\n",
       "        text-align: right;\n",
       "    }\n",
       "</style>\n",
       "<table border=\"1\" class=\"dataframe\">\n",
       "  <thead>\n",
       "    <tr style=\"text-align: right;\">\n",
       "      <th></th>\n",
       "      <th>Gender</th>\n",
       "      <th>Married</th>\n",
       "      <th>Dependents</th>\n",
       "      <th>Education</th>\n",
       "      <th>Self_Employed</th>\n",
       "      <th>ApplicantIncome</th>\n",
       "      <th>CoapplicantIncome</th>\n",
       "      <th>LoanAmount</th>\n",
       "      <th>Loan_Amount_Term</th>\n",
       "      <th>Credit_History</th>\n",
       "      <th>Property_Area</th>\n",
       "      <th>Loan_Status</th>\n",
       "    </tr>\n",
       "  </thead>\n",
       "  <tbody>\n",
       "    <tr>\n",
       "      <th>0</th>\n",
       "      <td>Male</td>\n",
       "      <td>No</td>\n",
       "      <td>0</td>\n",
       "      <td>Graduate</td>\n",
       "      <td>No</td>\n",
       "      <td>5849</td>\n",
       "      <td>0.0</td>\n",
       "      <td>NaN</td>\n",
       "      <td>360.0</td>\n",
       "      <td>1.0</td>\n",
       "      <td>Urban</td>\n",
       "      <td>1</td>\n",
       "    </tr>\n",
       "    <tr>\n",
       "      <th>1</th>\n",
       "      <td>Male</td>\n",
       "      <td>Yes</td>\n",
       "      <td>1</td>\n",
       "      <td>Graduate</td>\n",
       "      <td>No</td>\n",
       "      <td>4583</td>\n",
       "      <td>1508.0</td>\n",
       "      <td>128.0</td>\n",
       "      <td>360.0</td>\n",
       "      <td>1.0</td>\n",
       "      <td>Rural</td>\n",
       "      <td>0</td>\n",
       "    </tr>\n",
       "    <tr>\n",
       "      <th>2</th>\n",
       "      <td>Male</td>\n",
       "      <td>Yes</td>\n",
       "      <td>0</td>\n",
       "      <td>Graduate</td>\n",
       "      <td>Yes</td>\n",
       "      <td>3000</td>\n",
       "      <td>0.0</td>\n",
       "      <td>66.0</td>\n",
       "      <td>360.0</td>\n",
       "      <td>1.0</td>\n",
       "      <td>Urban</td>\n",
       "      <td>1</td>\n",
       "    </tr>\n",
       "    <tr>\n",
       "      <th>3</th>\n",
       "      <td>Male</td>\n",
       "      <td>Yes</td>\n",
       "      <td>0</td>\n",
       "      <td>Not Graduate</td>\n",
       "      <td>No</td>\n",
       "      <td>2583</td>\n",
       "      <td>2358.0</td>\n",
       "      <td>120.0</td>\n",
       "      <td>360.0</td>\n",
       "      <td>1.0</td>\n",
       "      <td>Urban</td>\n",
       "      <td>1</td>\n",
       "    </tr>\n",
       "    <tr>\n",
       "      <th>4</th>\n",
       "      <td>Male</td>\n",
       "      <td>No</td>\n",
       "      <td>0</td>\n",
       "      <td>Graduate</td>\n",
       "      <td>No</td>\n",
       "      <td>6000</td>\n",
       "      <td>0.0</td>\n",
       "      <td>141.0</td>\n",
       "      <td>360.0</td>\n",
       "      <td>1.0</td>\n",
       "      <td>Urban</td>\n",
       "      <td>1</td>\n",
       "    </tr>\n",
       "  </tbody>\n",
       "</table>\n",
       "</div>"
      ],
      "text/plain": [
       "  Gender Married Dependents     Education Self_Employed  ApplicantIncome  \\\n",
       "0   Male      No          0      Graduate            No             5849   \n",
       "1   Male     Yes          1      Graduate            No             4583   \n",
       "2   Male     Yes          0      Graduate           Yes             3000   \n",
       "3   Male     Yes          0  Not Graduate            No             2583   \n",
       "4   Male      No          0      Graduate            No             6000   \n",
       "\n",
       "   CoapplicantIncome  LoanAmount  Loan_Amount_Term  Credit_History  \\\n",
       "0                0.0         NaN             360.0             1.0   \n",
       "1             1508.0       128.0             360.0             1.0   \n",
       "2                0.0        66.0             360.0             1.0   \n",
       "3             2358.0       120.0             360.0             1.0   \n",
       "4                0.0       141.0             360.0             1.0   \n",
       "\n",
       "  Property_Area  Loan_Status  \n",
       "0         Urban            1  \n",
       "1         Rural            0  \n",
       "2         Urban            1  \n",
       "3         Urban            1  \n",
       "4         Urban            1  "
      ]
     },
     "execution_count": 7,
     "metadata": {},
     "output_type": "execute_result"
    }
   ],
   "source": [
    "full_set['Loan_Status'] = full_set['Loan_Status'].map({'N':0,'Y':1})\n",
    "full_set.head()"
   ]
  },
  {
   "cell_type": "markdown",
   "id": "09471d4c-2d65-4ae7-befb-e8e168dd767d",
   "metadata": {},
   "source": [
    "Şimdi, elimizdeki tam veri kümesinde kayıp gözlem olup olmadığını kontrol edelim:"
   ]
  },
  {
   "cell_type": "code",
   "execution_count": 8,
   "id": "de268f34-e475-43b1-88cd-85002580c1c8",
   "metadata": {},
   "outputs": [
    {
     "data": {
      "text/plain": [
       "Gender               13\n",
       "Married               3\n",
       "Dependents           15\n",
       "Education             0\n",
       "Self_Employed        32\n",
       "ApplicantIncome       0\n",
       "CoapplicantIncome     0\n",
       "LoanAmount           22\n",
       "Loan_Amount_Term     14\n",
       "Credit_History       50\n",
       "Property_Area         0\n",
       "Loan_Status           0\n",
       "dtype: int64"
      ]
     },
     "execution_count": 8,
     "metadata": {},
     "output_type": "execute_result"
    }
   ],
   "source": [
    "full_set.isnull().sum()\n",
    "\n",
    "# Gender               13\n",
    "# Married               3\n",
    "# Dependents           15\n",
    "# Education             0\n",
    "# Self_Employed        32\n",
    "# ApplicantIncome       0\n",
    "# CoapplicantIncome     0\n",
    "# LoanAmount           22\n",
    "# Loan_Amount_Term     14\n",
    "# Credit_History       50\n",
    "# Property_Area         0\n",
    "# Loan_Status           0\n",
    "# dtype: int64"
   ]
  },
  {
   "cell_type": "markdown",
   "id": "16c1fb66-a4d6-447e-a542-289627fe908c",
   "metadata": {},
   "source": [
    "Görüldüğü üzere bir kaç değişkende kayıp gözlem (missing value) vardır. Ancak, kayıp gözlem imputasyonunu (missing value imputation) tam veri kümesine uygulamak veri sızıntısına (data leakage) neden olacaktır. Bu nedenle, öncelikle tam veri kümesini, $\\%80 - \\%20$ oranı kullanılarak iki kısıma ayıralım. $\\%80$'lik kısıma eğitim veri kümesi (training dataset), $\\%20$'lik kısıma test veri kümesi (testing dataset) olacaktır. İşte, eğitim veri kümesi parametreleri kullanılarak, test veri kümesi üzerinde veri imputasyonu gerçekleştirebilir.\n",
    "\n",
    "Veri kümesine ayırma işlemi Scikit-Learn kütüphanesindeki `train_test_split` fonksiyonu kullanılarak yapılır. Ancak, bu fonksiyon, bağımlı değişken(ler) ile bağımsız değişken(ler)i ayrı ayrı kabul etmektedir. Bu nedenle, bağımlı değişken olan `Loan_Status` değişkeni başka bir değişkene atılalım:"
   ]
  },
  {
   "cell_type": "code",
   "execution_count": 9,
   "id": "dcbd9b90-979d-4d8d-ad3d-7e2353d6dcfa",
   "metadata": {},
   "outputs": [],
   "source": [
    "X_full = full_set.drop([\"Loan_Status\"], axis=1)\n",
    "y_full = full_set[\"Loan_Status\"]"
   ]
  },
  {
   "cell_type": "code",
   "execution_count": 10,
   "id": "6417b803-b536-4082-9d17-0a8d4c14f84c",
   "metadata": {},
   "outputs": [
    {
     "data": {
      "text/html": [
       "<div>\n",
       "<style scoped>\n",
       "    .dataframe tbody tr th:only-of-type {\n",
       "        vertical-align: middle;\n",
       "    }\n",
       "\n",
       "    .dataframe tbody tr th {\n",
       "        vertical-align: top;\n",
       "    }\n",
       "\n",
       "    .dataframe thead th {\n",
       "        text-align: right;\n",
       "    }\n",
       "</style>\n",
       "<table border=\"1\" class=\"dataframe\">\n",
       "  <thead>\n",
       "    <tr style=\"text-align: right;\">\n",
       "      <th></th>\n",
       "      <th>Gender</th>\n",
       "      <th>Married</th>\n",
       "      <th>Dependents</th>\n",
       "      <th>Education</th>\n",
       "      <th>Self_Employed</th>\n",
       "      <th>ApplicantIncome</th>\n",
       "      <th>CoapplicantIncome</th>\n",
       "      <th>LoanAmount</th>\n",
       "      <th>Loan_Amount_Term</th>\n",
       "      <th>Credit_History</th>\n",
       "      <th>Property_Area</th>\n",
       "    </tr>\n",
       "  </thead>\n",
       "  <tbody>\n",
       "    <tr>\n",
       "      <th>0</th>\n",
       "      <td>Male</td>\n",
       "      <td>No</td>\n",
       "      <td>0</td>\n",
       "      <td>Graduate</td>\n",
       "      <td>No</td>\n",
       "      <td>5849</td>\n",
       "      <td>0.0</td>\n",
       "      <td>NaN</td>\n",
       "      <td>360.0</td>\n",
       "      <td>1.0</td>\n",
       "      <td>Urban</td>\n",
       "    </tr>\n",
       "    <tr>\n",
       "      <th>1</th>\n",
       "      <td>Male</td>\n",
       "      <td>Yes</td>\n",
       "      <td>1</td>\n",
       "      <td>Graduate</td>\n",
       "      <td>No</td>\n",
       "      <td>4583</td>\n",
       "      <td>1508.0</td>\n",
       "      <td>128.0</td>\n",
       "      <td>360.0</td>\n",
       "      <td>1.0</td>\n",
       "      <td>Rural</td>\n",
       "    </tr>\n",
       "    <tr>\n",
       "      <th>2</th>\n",
       "      <td>Male</td>\n",
       "      <td>Yes</td>\n",
       "      <td>0</td>\n",
       "      <td>Graduate</td>\n",
       "      <td>Yes</td>\n",
       "      <td>3000</td>\n",
       "      <td>0.0</td>\n",
       "      <td>66.0</td>\n",
       "      <td>360.0</td>\n",
       "      <td>1.0</td>\n",
       "      <td>Urban</td>\n",
       "    </tr>\n",
       "    <tr>\n",
       "      <th>3</th>\n",
       "      <td>Male</td>\n",
       "      <td>Yes</td>\n",
       "      <td>0</td>\n",
       "      <td>Not Graduate</td>\n",
       "      <td>No</td>\n",
       "      <td>2583</td>\n",
       "      <td>2358.0</td>\n",
       "      <td>120.0</td>\n",
       "      <td>360.0</td>\n",
       "      <td>1.0</td>\n",
       "      <td>Urban</td>\n",
       "    </tr>\n",
       "    <tr>\n",
       "      <th>4</th>\n",
       "      <td>Male</td>\n",
       "      <td>No</td>\n",
       "      <td>0</td>\n",
       "      <td>Graduate</td>\n",
       "      <td>No</td>\n",
       "      <td>6000</td>\n",
       "      <td>0.0</td>\n",
       "      <td>141.0</td>\n",
       "      <td>360.0</td>\n",
       "      <td>1.0</td>\n",
       "      <td>Urban</td>\n",
       "    </tr>\n",
       "    <tr>\n",
       "      <th>...</th>\n",
       "      <td>...</td>\n",
       "      <td>...</td>\n",
       "      <td>...</td>\n",
       "      <td>...</td>\n",
       "      <td>...</td>\n",
       "      <td>...</td>\n",
       "      <td>...</td>\n",
       "      <td>...</td>\n",
       "      <td>...</td>\n",
       "      <td>...</td>\n",
       "      <td>...</td>\n",
       "    </tr>\n",
       "    <tr>\n",
       "      <th>609</th>\n",
       "      <td>Female</td>\n",
       "      <td>No</td>\n",
       "      <td>0</td>\n",
       "      <td>Graduate</td>\n",
       "      <td>No</td>\n",
       "      <td>2900</td>\n",
       "      <td>0.0</td>\n",
       "      <td>71.0</td>\n",
       "      <td>360.0</td>\n",
       "      <td>1.0</td>\n",
       "      <td>Rural</td>\n",
       "    </tr>\n",
       "    <tr>\n",
       "      <th>610</th>\n",
       "      <td>Male</td>\n",
       "      <td>Yes</td>\n",
       "      <td>3+</td>\n",
       "      <td>Graduate</td>\n",
       "      <td>No</td>\n",
       "      <td>4106</td>\n",
       "      <td>0.0</td>\n",
       "      <td>40.0</td>\n",
       "      <td>180.0</td>\n",
       "      <td>1.0</td>\n",
       "      <td>Rural</td>\n",
       "    </tr>\n",
       "    <tr>\n",
       "      <th>611</th>\n",
       "      <td>Male</td>\n",
       "      <td>Yes</td>\n",
       "      <td>1</td>\n",
       "      <td>Graduate</td>\n",
       "      <td>No</td>\n",
       "      <td>8072</td>\n",
       "      <td>240.0</td>\n",
       "      <td>253.0</td>\n",
       "      <td>360.0</td>\n",
       "      <td>1.0</td>\n",
       "      <td>Urban</td>\n",
       "    </tr>\n",
       "    <tr>\n",
       "      <th>612</th>\n",
       "      <td>Male</td>\n",
       "      <td>Yes</td>\n",
       "      <td>2</td>\n",
       "      <td>Graduate</td>\n",
       "      <td>No</td>\n",
       "      <td>7583</td>\n",
       "      <td>0.0</td>\n",
       "      <td>187.0</td>\n",
       "      <td>360.0</td>\n",
       "      <td>1.0</td>\n",
       "      <td>Urban</td>\n",
       "    </tr>\n",
       "    <tr>\n",
       "      <th>613</th>\n",
       "      <td>Female</td>\n",
       "      <td>No</td>\n",
       "      <td>0</td>\n",
       "      <td>Graduate</td>\n",
       "      <td>Yes</td>\n",
       "      <td>4583</td>\n",
       "      <td>0.0</td>\n",
       "      <td>133.0</td>\n",
       "      <td>360.0</td>\n",
       "      <td>0.0</td>\n",
       "      <td>Semiurban</td>\n",
       "    </tr>\n",
       "  </tbody>\n",
       "</table>\n",
       "<p>614 rows × 11 columns</p>\n",
       "</div>"
      ],
      "text/plain": [
       "     Gender Married Dependents     Education Self_Employed  ApplicantIncome  \\\n",
       "0      Male      No          0      Graduate            No             5849   \n",
       "1      Male     Yes          1      Graduate            No             4583   \n",
       "2      Male     Yes          0      Graduate           Yes             3000   \n",
       "3      Male     Yes          0  Not Graduate            No             2583   \n",
       "4      Male      No          0      Graduate            No             6000   \n",
       "..      ...     ...        ...           ...           ...              ...   \n",
       "609  Female      No          0      Graduate            No             2900   \n",
       "610    Male     Yes         3+      Graduate            No             4106   \n",
       "611    Male     Yes          1      Graduate            No             8072   \n",
       "612    Male     Yes          2      Graduate            No             7583   \n",
       "613  Female      No          0      Graduate           Yes             4583   \n",
       "\n",
       "     CoapplicantIncome  LoanAmount  Loan_Amount_Term  Credit_History  \\\n",
       "0                  0.0         NaN             360.0             1.0   \n",
       "1               1508.0       128.0             360.0             1.0   \n",
       "2                  0.0        66.0             360.0             1.0   \n",
       "3               2358.0       120.0             360.0             1.0   \n",
       "4                  0.0       141.0             360.0             1.0   \n",
       "..                 ...         ...               ...             ...   \n",
       "609                0.0        71.0             360.0             1.0   \n",
       "610                0.0        40.0             180.0             1.0   \n",
       "611              240.0       253.0             360.0             1.0   \n",
       "612                0.0       187.0             360.0             1.0   \n",
       "613                0.0       133.0             360.0             0.0   \n",
       "\n",
       "    Property_Area  \n",
       "0           Urban  \n",
       "1           Rural  \n",
       "2           Urban  \n",
       "3           Urban  \n",
       "4           Urban  \n",
       "..            ...  \n",
       "609         Rural  \n",
       "610         Rural  \n",
       "611         Urban  \n",
       "612         Urban  \n",
       "613     Semiurban  \n",
       "\n",
       "[614 rows x 11 columns]"
      ]
     },
     "execution_count": 10,
     "metadata": {},
     "output_type": "execute_result"
    }
   ],
   "source": [
    "X_full"
   ]
  },
  {
   "cell_type": "markdown",
   "id": "9da0f858-a45b-4565-9308-7222e3a6c23f",
   "metadata": {},
   "source": [
    "Burada, `X_full` bağımsız değişkenlerin (özniteliklerin - features) olduğu bir matristir.\n",
    "\n",
    "Artık, tam veri kümemizi parçalayabiliriz."
   ]
  },
  {
   "cell_type": "code",
   "execution_count": 11,
   "id": "5265bbdf-a0c2-4966-a468-0a1ab9b20a95",
   "metadata": {},
   "outputs": [
    {
     "name": "stdout",
     "output_type": "stream",
     "text": [
      "Eğitim Kümesinin şekli: (491, 11), \n",
      "Test Kümesinin Şekli: (123, 11)\n"
     ]
    }
   ],
   "source": [
    "X_train, X_test, y_train, y_test = train_test_split(X_full, y_full, test_size  = 0.2, random_state=42)\n",
    "print(f\"Eğitim Kümesinin şekli: {X_train.shape}, \\nTest Kümesinin Şekli: {X_test.shape}\")\n",
    "\n",
    "# Eğitim Kümesinin şekli: (491, 11), \n",
    "# Test Kümesinin Şekli: (123, 11)"
   ]
  },
  {
   "cell_type": "markdown",
   "id": "aa5223d7-605a-4f3b-9da5-a00de3e64452",
   "metadata": {},
   "source": [
    "Kolaylıkla anlaşılabileceği üzere, eğitim veri kümesinde 491 müşteriye, test veri kümesinde ise 123 müşteriye ait bilgi bulunmaktadır. Bağımsız değişkenlerin sayısı ise 11'dir.\n",
    "\n",
    "Burada eğitim veri kümesi çok büyük olmadığı için model doğrulama (model validation), çapraz doğrulama (cross validation) kullanılarak elde edilecektir. Çapraz doğrulama gerçekleştirilirken de, kullanacağımız makine öğrenmesi modelinin hiperparametrelerine Izgara Arama (Grid Search) kullanılarak ince ayar (fine tuning) verilecektir.\n",
    "\n",
    "Ancak, veri kümesinde hem sayısal (nümerik) hem de kategorik (categorical) değişkenler vardır. Buna ek olarak, eğitim kümesinde kayıp gözlemler de mevcuttur. Bu farklı değişkenlere ayrı ayrı veri önişleme (data pre-processing) gerçekleştirilecektir. Örneğin, nümerik değişkenler ölçeklendirilecektir (scaling) ve kategorik değişkenler bire-bir-kodlama (one-hot-encoding) kullanılarak nümerikleştirilecektir.\n",
    "\n",
    "Fakat, herhangi bir veri ön-işleme gerçekleştirirken, veri sızıntısını (data leakage) engellemek için , bu ön-işleme adımını, çapraz doğrulamanın her parçasında ayrı ayrı tekrarlamanız gerekmektedir. Bu adımlar gerek veri ölçekleme (data scaling) olabilir, gerekse sentetik veri oluşturma (Synthetic Data Generation - SMOTE, ADASYN, Oversampling, Undersampling) olabilir, veya kayıp değer tamamlama (missing value imputation) ya da kategorik değişken kodlama (categorical variable encoding) olabilir. \n",
    "\n",
    "Verideki nümerik (sayısal) ve kategorik değişkenleri ayırdıktan sonra, bu değişkenlerin türüne göre farklı veri önişleme adımlarını Scikit-Learn kütüphanesindeki `Pipeline` fonksiyonunu kullanarak bir iletim hattı üzerine oturtabilir ve daha sonra gene Scikit-Learn kütüphanesinde bulunan `ColumnTransformer` fonksiyonu yardımı ile bu dönüşleri ayrı ayrı uygulayabilirsiniz.\n",
    "\n",
    "Daha sonra başka bir Pipeline (İletim Hattı) oluşturarak, önce bir önişleme gerçekleştirir ve daha sonra `GridSearchCV` fonksiyonu ile istediğiniz makine öğrenmesi modeli için çapraz doğrulama ile Izgara Arama (Grid Search) kullanarak hiperparametre araştırması gerçekleyebilirsiniz. İşte, arka planda k-parça çapraz doğrulama (k-fold cross validation) yapılırken, nümerik ve kategorik değişkenler için ayrı ayrı tanımladığınız tüm önişleme adımlarının parametreleri k-1 parçadaki verilerden elde edilecek ve daha sonra bu parametreler k-ıncı parçada uygulanacaktır ve bu, k defa aynı şekilde tekrarlanacaktır.\n",
    "\n",
    "Öncelikle veri kümemizdeki nümerik ve kategorik değişkenlerin isimlerini otomatik olarak çekelim:"
   ]
  },
  {
   "cell_type": "code",
   "execution_count": 12,
   "id": "0402a173-1baf-4b74-8a71-5cf8908c8b37",
   "metadata": {},
   "outputs": [
    {
     "data": {
      "text/plain": [
       "Index(['ApplicantIncome', 'CoapplicantIncome', 'LoanAmount',\n",
       "       'Loan_Amount_Term', 'Credit_History'],\n",
       "      dtype='object')"
      ]
     },
     "execution_count": 12,
     "metadata": {},
     "output_type": "execute_result"
    }
   ],
   "source": [
    "num_features = full_set.drop(['Loan_Status'], axis = 1).select_dtypes(include = 'number').columns\n",
    "num_features\n",
    "# Index(['ApplicantIncome', 'CoapplicantIncome', 'LoanAmount',\n",
    "#        'Loan_Amount_Term', 'Credit_History'],\n",
    "#       dtype='object')"
   ]
  },
  {
   "cell_type": "markdown",
   "id": "f777e4dc-1df8-445f-b6c4-5189e49f05f7",
   "metadata": {},
   "source": [
    "`ApplicantIncome`, `CoapplicantIncome`, `LoanAmount`, `Loan_Amount_Term`, ve `Credit_History` değişkenleri nümerik veri yapısına sahiptir."
   ]
  },
  {
   "cell_type": "code",
   "execution_count": 13,
   "id": "4c6b2501-ba4a-41ff-9141-ce46e11147ec",
   "metadata": {},
   "outputs": [
    {
     "data": {
      "text/plain": [
       "Index(['Gender', 'Married', 'Dependents', 'Education', 'Self_Employed',\n",
       "       'Property_Area'],\n",
       "      dtype='object')"
      ]
     },
     "execution_count": 13,
     "metadata": {},
     "output_type": "execute_result"
    }
   ],
   "source": [
    "cat_features = full_set.select_dtypes(include = 'object').columns\n",
    "cat_features\n",
    "# Index(['Gender', 'Married', 'Dependents', 'Education', 'Self_Employed',\n",
    "#        'Property_Area'],\n",
    "#       dtype='object')"
   ]
  },
  {
   "cell_type": "markdown",
   "id": "5e175a35-fd2e-4360-b074-b3620df76bb1",
   "metadata": {},
   "source": [
    "Benzer şekilde, `Gender`, `Married`, `Dependents`, `Education`, `Self_Employed`, ve `Property_Area` değişkenleri kategorik veri yapısına sahiptir."
   ]
  },
  {
   "cell_type": "markdown",
   "id": "a7508165-a9ab-4d6a-b5ae-8108e9ea4792",
   "metadata": {},
   "source": [
    "Yukarıda da bahsedildiği gibi, nümerik ve kategorik değişkenlere ayrı ayrı veri ön-işleme adımları gerçekleştirilecektir. Nümerik değişkenler aynı birime sahip olmaları için ölçeklenecektir ve varsa kayıp gözlemler ortalam ile impute edilecektir. Benzer şekilde, kategorik değişkenler, makine öğrenmesi modelinin anlayabileceği şekilde bire-bir-kodlama (one-hot-encoding) kullanılarak nümerikleştirilecektir ve kayıp gözlem varsa sabit bir değer ile (örneğin, `missing` yani bilinmiyor bilgisi) ile impute edilecektir. Bu iki farklı değişken türü için gerçekleştirilecek işlemler, iki farklı iletim hattı ile gerçekleştirilecektir."
   ]
  },
  {
   "cell_type": "code",
   "execution_count": 14,
   "id": "9b35c404-0723-4f0b-bae6-b489e780e850",
   "metadata": {},
   "outputs": [],
   "source": [
    "# Sayısal değişkenlere uygulanacak veri ön-işleme adımları için iletim hattı (pipeline)\n",
    "\n",
    "num_transformer = Pipeline(steps = [('Imputer', SimpleImputer(missing_values=np.nan, strategy='mean')),\n",
    "                                    ('MinMaxScaler', MinMaxScaler())])\n",
    "# Pipeline(steps=[('Imputer', SimpleImputer()), ('MinMaxScaler', MinMaxScaler())])\n",
    "\n",
    "# Kategorik değişkenlere uygulanacak veri ön-işleme adımları için iletim hattı (pipeline)\n",
    "\n",
    "cat_transformer = Pipeline(steps = [('Imputer', SimpleImputer(strategy = 'constant', fill_value = 'missing')),\n",
    "                                    ('OneHotEncoder', OneHotEncoder(categories = 'auto', drop=None, handle_unknown = 'ignore'))])\n",
    "\n",
    "# Pipeline(steps=[('Imputer',\n",
    "#                  SimpleImputer(fill_value='missing', strategy='constant')),\n",
    "#                 ('OneHotEncoder',\n",
    "#                  OneHotEncoder(drop='None', handle_unknown='ignore'))])"
   ]
  },
  {
   "cell_type": "markdown",
   "id": "3edc454a-32f4-4ae1-8b59-b1c6157696c1",
   "metadata": {},
   "source": [
    "İletim hatlarını tanımladıktan sonra artık sütun dönüşümlerine (column transformers) geçebiliriz. "
   ]
  },
  {
   "cell_type": "code",
   "execution_count": 15,
   "id": "81c802ea-0be6-41bc-a514-953a603bcb4f",
   "metadata": {},
   "outputs": [],
   "source": [
    "preprocessor = ColumnTransformer(transformers = [('num', num_transformer, num_features), \n",
    "                                                 ('cat', cat_transformer, cat_features)],\n",
    "                                 remainder = 'drop',\n",
    "                                 n_jobs = -1,\n",
    "                                 verbose = False)\n",
    "# ColumnTransformer(n_jobs=-1,\n",
    "#                   transformers=[('num',\n",
    "#                                  Pipeline(steps=[('Imputer', SimpleImputer()),\n",
    "#                                                  ('MinMaxScaler',\n",
    "#                                                   MinMaxScaler())]),\n",
    "#                                  Index(['ApplicantIncome', 'CoapplicantIncome', 'LoanAmount',\n",
    "#        'Loan_Amount_Term', 'Credit_History'],\n",
    "#       dtype='object')),\n",
    "#                                 ('cat',\n",
    "#                                  Pipeline(steps=[('Imputer',\n",
    "#                                                   SimpleImputer(fill_value='missing',\n",
    "#                                                                 strategy='constant')),\n",
    "#                                                  ('OneHotEncoder',\n",
    "#                                                   OneHotEncoder(drop='None',\n",
    "#                                                                 handle_unknown='ignore'))]),\n",
    "#                                  Index(['Gender', 'Married', 'Dependents', 'Education', 'Self_Employed',\n",
    "#        'Property_Area'],\n",
    "#       dtype='object'))])"
   ]
  },
  {
   "cell_type": "markdown",
   "id": "b0dea7e2-086c-4e56-acf1-2a70d4f5b78b",
   "metadata": {},
   "source": [
    "Artık veri ön-işleme hattımız hazır!\n",
    "\n",
    "Şimdi, bu veri önişleme adımı ile oluşturacağımız Rastgele Ormanlar (random forest) algoritmasını bir araya getirebilir, kolaylıkla çapraz doğrulama uygulayabiliriz. Böylelikle, yukarıda bahsedilen veri sızıntısından da kaçınırız. "
   ]
  },
  {
   "cell_type": "code",
   "execution_count": 16,
   "id": "7c5522c6-07df-46cb-901a-e4c0c1a916d4",
   "metadata": {},
   "outputs": [],
   "source": [
    "pipe = Pipeline(steps = [('preprocess', preprocessor),\n",
    "                         ('RF_model', RandomForestClassifier(class_weight = \"balanced\", n_jobs=-1))],\n",
    "                verbose=False)         "
   ]
  },
  {
   "cell_type": "markdown",
   "id": "e610692e-d75a-44b4-b9e9-e9f9cb701fee",
   "metadata": {},
   "source": [
    "Daha sonra, ızgara arama gerçekleştirirken kullanacağımız parametreler için olası değerleri içerek bir sözlük hazırlayalım:"
   ]
  },
  {
   "cell_type": "code",
   "execution_count": 17,
   "id": "c95d88bf-c804-42da-a578-ef88acb57452",
   "metadata": {},
   "outputs": [],
   "source": [
    "parameters_grid = [{'RF_model__n_estimators':[10, 20, 50],\n",
    "                    'RF_model__max_features': ['sqrt', 'log2', 0.25, 0.5, 0.75],\n",
    "                    'RF_model__max_depth' : [2, 4,5,6,7,8]}\n",
    "                  ]"
   ]
  },
  {
   "cell_type": "raw",
   "id": "633992e1-1705-4518-bddd-e7898173a447",
   "metadata": {},
   "source": [
    "parameters_grid = [{'RF_model__n_estimators':[50],\n",
    "                    'RF_model__criterion' : [\"gini\"],\n",
    "                    'RF_model__max_features': ['sqrt'],\n",
    "                    'RF_model__max_depth' : [2],\n",
    "                    'RF_model__min_samples_leaf': [1],\n",
    "                    'RF_model__min_samples_split': [2]}\n",
    "                  ]"
   ]
  },
  {
   "cell_type": "markdown",
   "id": "98fdf7ed-eb1e-4733-9eea-cd8567b05fdf",
   "metadata": {},
   "source": [
    "Gerekli tanımlamaları yaptıktan sonra artık çapraz doğrulamalı ızgara aramayı ayarlayabiliriz. Burada 10-katlı çapraz doğrulama (10-fold cross validation) kullanacağız ve performans ölçütü olarak doğruluk oranını (accuracy rate) tercih ediyoruz. "
   ]
  },
  {
   "cell_type": "code",
   "execution_count": 18,
   "id": "7277f5bc-d3b1-4955-a00e-62118e3eb198",
   "metadata": {},
   "outputs": [],
   "source": [
    "search = GridSearchCV(estimator = pipe, param_grid = parameters_grid, cv = 10, scoring = 'accuracy', return_train_score=False, verbose=1, n_jobs=-1)"
   ]
  },
  {
   "cell_type": "markdown",
   "id": "86e4e9f1-af38-4aae-b763-f5bbf909e9bb",
   "metadata": {},
   "source": [
    "Artık elimizdeki eğitim verisini modellerimize uyum sağlatmaya (fitting) başlayabiliriz:"
   ]
  },
  {
   "cell_type": "code",
   "execution_count": 19,
   "id": "56c133f8-1d99-42f2-898b-12eea4de3b62",
   "metadata": {},
   "outputs": [
    {
     "name": "stdout",
     "output_type": "stream",
     "text": [
      "Fitting 10 folds for each of 90 candidates, totalling 900 fits\n"
     ]
    }
   ],
   "source": [
    "best_model = search.fit(X_train, y_train)"
   ]
  },
  {
   "cell_type": "code",
   "execution_count": 21,
   "id": "61658b14-aa30-4327-a2ca-0d932c628673",
   "metadata": {},
   "outputs": [
    {
     "data": {
      "text/plain": [
       "Pipeline(steps=[('preprocess',\n",
       "                 ColumnTransformer(n_jobs=-1,\n",
       "                                   transformers=[('num',\n",
       "                                                  Pipeline(steps=[('Imputer',\n",
       "                                                                   SimpleImputer()),\n",
       "                                                                  ('MinMaxScaler',\n",
       "                                                                   MinMaxScaler())]),\n",
       "                                                  Index(['ApplicantIncome', 'CoapplicantIncome', 'LoanAmount',\n",
       "       'Loan_Amount_Term', 'Credit_History'],\n",
       "      dtype='object')),\n",
       "                                                 ('cat',\n",
       "                                                  Pipeline(steps=[('Imputer',\n",
       "                                                                   SimpleImputer(fill_value='missing',\n",
       "                                                                                 strategy='constant')),\n",
       "                                                                  ('OneHotEncoder',\n",
       "                                                                   OneHotEncoder(handle_unknown='ignore'))]),\n",
       "                                                  Index(['Gender', 'Married', 'Dependents', 'Education', 'Self_Employed',\n",
       "       'Property_Area'],\n",
       "      dtype='object'))])),\n",
       "                ('RF_model',\n",
       "                 RandomForestClassifier(class_weight='balanced', max_depth=2,\n",
       "                                        max_features=0.75, n_estimators=20,\n",
       "                                        n_jobs=-1))])"
      ]
     },
     "execution_count": 21,
     "metadata": {},
     "output_type": "execute_result"
    }
   ],
   "source": [
    "best_model.best_estimator_\n",
    "# Pipeline(steps=[('preprocess',\n",
    "#                  ColumnTransformer(n_jobs=-1,\n",
    "#                                    transformers=[('num',\n",
    "#                                                   Pipeline(steps=[('Imputer',\n",
    "#                                                                    SimpleImputer()),\n",
    "#                                                                   ('MinMaxScaler',\n",
    "#                                                                    MinMaxScaler())]),\n",
    "#                                                   Index(['ApplicantIncome', 'CoapplicantIncome', 'LoanAmount',\n",
    "#        'Loan_Amount_Term', 'Credit_History'],\n",
    "#       dtype='object')),\n",
    "#                                                  ('cat',\n",
    "#                                                   Pipeline(steps=[('Imputer',\n",
    "#                                                                    SimpleImputer(fill_value='missing',\n",
    "#                                                                                  strategy='constant')),\n",
    "#                                                                   ('OneHotEncoder',\n",
    "#                                                                    OneHotEncoder(handle_unknown='ignore'))]),\n",
    "#                                                   Index(['Gender', 'Married', 'Dependents', 'Education', 'Self_Employed',\n",
    "#        'Property_Area'],\n",
    "#       dtype='object'))])),\n",
    "#                 ('RF_model',\n",
    "#                  RandomForestClassifier(class_weight='balanced', max_depth=2,\n",
    "#                                         max_features=0.75, n_estimators=20,\n",
    "#                                         n_jobs=-1))])"
   ]
  },
  {
   "cell_type": "code",
   "execution_count": 22,
   "id": "f58aaaf7-5f2c-4404-9777-c7f47bd2aa3b",
   "metadata": {},
   "outputs": [],
   "source": [
    "ytrain_pred = best_model.predict(X_train)\n",
    "ytest_pred = best_model.predict(X_test)"
   ]
  },
  {
   "cell_type": "code",
   "execution_count": 23,
   "id": "4db713d2-2398-4942-adcd-e301d251e45c",
   "metadata": {},
   "outputs": [],
   "source": [
    "def TrainTestScores(y_train, y_train_pred, y_test, y_test_pred):\n",
    "    \n",
    "    scores = {\"train_set\": {\"Accuracy\" : accuracy_score(y_train, y_train_pred),\n",
    "                            \"Precision\" : precision_score(y_train, y_train_pred),\n",
    "                            \"Recall\" : recall_score(y_train, y_train_pred),                          \n",
    "                            \"F1 Score\" : f1_score(y_train, y_train_pred),\n",
    "                           \"AUC\": roc_auc_score(y_train, y_train_pred)},\n",
    "    \n",
    "              \"test_set\": {\"Accuracy\" : accuracy_score(y_test, y_test_pred),\n",
    "                           \"Precision\" : precision_score(y_test, y_test_pred),\n",
    "                           \"Recall\" : recall_score(y_test, y_test_pred),                          \n",
    "                           \"F1 Score\" : f1_score(y_test, y_test_pred),\n",
    "                          \"AUC:\": roc_auc_score(y_test, y_test_pred)}}\n",
    "    \n",
    "    return scores"
   ]
  },
  {
   "cell_type": "code",
   "execution_count": 24,
   "id": "826e8fdc-d51b-42d0-9c26-c35eba0c037c",
   "metadata": {},
   "outputs": [
    {
     "data": {
      "text/plain": [
       "{'train_set': {'Accuracy': 0.8167006109979633,\n",
       "  'Precision': 0.8,\n",
       "  'Recall': 0.9824561403508771,\n",
       "  'F1 Score': 0.8818897637795275,\n",
       "  'AUC': 0.709348875544566},\n",
       " 'test_set': {'Accuracy': 0.7886178861788617,\n",
       "  'Precision': 0.7596153846153846,\n",
       "  'Recall': 0.9875,\n",
       "  'F1 Score': 0.8586956521739131,\n",
       "  'AUC:': 0.7030523255813954}}"
      ]
     },
     "execution_count": 24,
     "metadata": {},
     "output_type": "execute_result"
    }
   ],
   "source": [
    "TrainTestScores(y_train, ytrain_pred , y_test, ytest_pred)\n",
    "# {'train_set': {'Accuracy': 0.8167006109979633,\n",
    "#   'Precision': 0.8,\n",
    "#   'Recall': 0.9824561403508771,\n",
    "#   'F1 Score': 0.8818897637795275,\n",
    "#   'AUC': 0.709348875544566},\n",
    "#  'test_set': {'Accuracy': 0.7886178861788617,\n",
    "#   'Precision': 0.7596153846153846,\n",
    "#   'Recall': 0.9875,\n",
    "#   'F1 Score': 0.8586956521739131,\n",
    "#   'AUC:': 0.7030523255813954}}"
   ]
  },
  {
   "cell_type": "code",
   "execution_count": 25,
   "id": "33d23289-2d36-49d4-b443-2a41b0e751c0",
   "metadata": {},
   "outputs": [],
   "source": [
    "pickle_out = open(\"classifier.pkl\", mode = \"wb\") \n",
    "pickle.dump(best_model, pickle_out) \n",
    "pickle_out.close()"
   ]
  },
  {
   "cell_type": "raw",
   "id": "3baa9b03-7e78-404e-a246-4b27a5421d5c",
   "metadata": {},
   "source": [
    "pickle_in = open('classifier.pkl', 'rb') \n",
    "classifier = pickle.load(pickle_in)"
   ]
  }
 ],
 "metadata": {
  "kernelspec": {
   "display_name": "myEnvironment",
   "language": "python",
   "name": "myenvironment"
  },
  "language_info": {
   "codemirror_mode": {
    "name": "ipython",
    "version": 3
   },
   "file_extension": ".py",
   "mimetype": "text/x-python",
   "name": "python",
   "nbconvert_exporter": "python",
   "pygments_lexer": "ipython3",
   "version": "3.8.12"
  }
 },
 "nbformat": 4,
 "nbformat_minor": 5
}
